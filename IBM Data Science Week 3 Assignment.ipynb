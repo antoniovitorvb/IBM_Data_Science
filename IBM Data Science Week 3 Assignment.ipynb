{
    "cells": [
        {
            "cell_type": "markdown",
            "metadata": {
                "collapsed": true
            },
            "source": "# My Jupyter Notebook on IBM Watson Data Science Experience"
        },
        {
            "cell_type": "markdown",
            "metadata": {},
            "source": "**Antonio Vitor Villas Boas**  \nElectrical Engineer"
        },
        {
            "cell_type": "markdown",
            "metadata": {},
            "source": "_I'm interested in data science because I like to use data (raw or tidy) to have insights and discover tendencies_"
        },
        {
            "cell_type": "markdown",
            "metadata": {},
            "source": "### The next cell is supposed to do the sum between the two numbers"
        },
        {
            "cell_type": "code",
            "execution_count": 3,
            "metadata": {},
            "outputs": [
                {
                    "data": {
                        "text/plain": "17"
                    },
                    "execution_count": 3,
                    "metadata": {},
                    "output_type": "execute_result"
                }
            ],
            "source": "10 + 7"
        },
        {
            "cell_type": "markdown",
            "metadata": {},
            "source": "<a href=https://www.ibm.com/br-pt><img src=https://upload.wikimedia.org/wikipedia/commons/thumb/5/51/IBM_logo.svg/800px-IBM_logo.svg.png width = 200 align=\"left\"></a><br><br><br><br><br><hr></hr>\n    <font color=red>My favorite football teams:</font>\n    1. E.C. Bahia\n    2. Borussia Dortmund\n    3. Barcelona\n    "
        }
    ],
    "metadata": {
        "kernelspec": {
            "display_name": "Python 3.6",
            "language": "python",
            "name": "python3"
        },
        "language_info": {
            "codemirror_mode": {
                "name": "ipython",
                "version": 3
            },
            "file_extension": ".py",
            "mimetype": "text/x-python",
            "name": "python",
            "nbconvert_exporter": "python",
            "pygments_lexer": "ipython3",
            "version": "3.6.9"
        }
    },
    "nbformat": 4,
    "nbformat_minor": 1
}